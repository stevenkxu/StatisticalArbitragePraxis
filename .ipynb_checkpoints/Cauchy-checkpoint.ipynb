{
 "cells": [
  {
   "cell_type": "code",
   "execution_count": 8,
   "metadata": {},
   "outputs": [],
   "source": [
    "import numpy.random as rd\n",
    "import numpy as np"
   ]
  },
  {
   "cell_type": "code",
   "execution_count": 34,
   "metadata": {},
   "outputs": [
    {
     "name": "stdout",
     "output_type": "stream",
     "text": [
      "10 ^ 3 :\n",
      "x: -0.045257, 0.987033, -0.058028\n",
      "y: 0.013617, 0.968160, 0.026062\n",
      "z: 1.138619, 21.887053, 0.011332\n",
      "10 ^ 4 :\n",
      "x: -0.018434, 0.987557, -0.027073\n",
      "y: 0.010988, 0.993055, 0.004078\n",
      "z: 11.189588, 817.795052, 0.012448\n",
      "10 ^ 5 :\n",
      "x: 0.001577, 0.997340, 0.001720\n",
      "y: 0.005093, 0.998687, 0.006420\n",
      "z: 0.365812, 135.910449, -0.004224\n",
      "10 ^ 6 :\n",
      "x: 0.001512, 0.999921, 0.002388\n",
      "y: 0.000304, 0.998886, 0.000562\n",
      "z: -0.955786, 826.444235, 0.002076\n",
      "10 ^ 7 :\n",
      "x: 0.000303, 0.999766, 0.000681\n",
      "y: 0.000332, 0.999664, 0.000042\n",
      "z: -0.937121, 3633.152348, -0.000157\n",
      "10 ^ 8 :\n",
      "x: 0.000060, 0.999842, 0.000111\n",
      "y: 0.000070, 0.999998, 0.000042\n",
      "z: 10.320390, 105937.148666, -0.000179\n"
     ]
    }
   ],
   "source": [
    "for i in range(3,9):\n",
    "    rd.seed(0)\n",
    "    x = rd.randn(10**i)\n",
    "    y = rd.randn(10**i)\n",
    "    z = x/y\n",
    "    print(10,'^',i,':')\n",
    "    print('x: %8.6f, %8.6f, %8.6f'%(x.mean(),x.std(), np.median(x)))\n",
    "    print('y: %8.6f, %8.6f, %8.6f'% (y.mean(), y.std(), np.median(y)))\n",
    "    print('z: %8.6f, %8.6f, %8.6f'% (z.mean(), z.std(), np.median(z)))"
   ]
  },
  {
   "cell_type": "code",
   "execution_count": null,
   "metadata": {},
   "outputs": [],
   "source": []
  },
  {
   "cell_type": "code",
   "execution_count": null,
   "metadata": {},
   "outputs": [],
   "source": []
  },
  {
   "cell_type": "code",
   "execution_count": null,
   "metadata": {},
   "outputs": [],
   "source": []
  }
 ],
 "metadata": {
  "kernelspec": {
   "display_name": "Python 3",
   "language": "python",
   "name": "python3"
  },
  "language_info": {
   "codemirror_mode": {
    "name": "ipython",
    "version": 3
   },
   "file_extension": ".py",
   "mimetype": "text/x-python",
   "name": "python",
   "nbconvert_exporter": "python",
   "pygments_lexer": "ipython3",
   "version": "3.7.4"
  }
 },
 "nbformat": 4,
 "nbformat_minor": 4
}
