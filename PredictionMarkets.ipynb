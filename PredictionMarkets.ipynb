{
 "cells": [
  {
   "cell_type": "code",
   "execution_count": 1,
   "metadata": {},
   "outputs": [],
   "source": [
    "import pandas as pd\n",
    "import numpy as np\n",
    "from pandas_datareader import data\n",
    "import matplotlib.pyplot as plt\n",
    "import seaborn as sns\n",
    "sns.set()"
   ]
  },
  {
   "cell_type": "code",
   "execution_count": 2,
   "metadata": {},
   "outputs": [],
   "source": [
    "predict = pd.read_csv('USPres2020Win.csv')"
   ]
  },
  {
   "cell_type": "code",
   "execution_count": 16,
   "metadata": {},
   "outputs": [],
   "source": [
    "trump = predict[predict['ContractName'] == 'Trump']"
   ]
  },
  {
   "cell_type": "code",
   "execution_count": 22,
   "metadata": {},
   "outputs": [
    {
     "data": {
      "text/html": [
       "<div>\n",
       "<style scoped>\n",
       "    .dataframe tbody tr th:only-of-type {\n",
       "        vertical-align: middle;\n",
       "    }\n",
       "\n",
       "    .dataframe tbody tr th {\n",
       "        vertical-align: top;\n",
       "    }\n",
       "\n",
       "    .dataframe thead th {\n",
       "        text-align: right;\n",
       "    }\n",
       "</style>\n",
       "<table border=\"1\" class=\"dataframe\">\n",
       "  <thead>\n",
       "    <tr style=\"text-align: right;\">\n",
       "      <th></th>\n",
       "      <th>ContractName</th>\n",
       "      <th>Date</th>\n",
       "      <th>OpenSharePrice</th>\n",
       "      <th>HighSharePrice</th>\n",
       "      <th>LowSharePrice</th>\n",
       "      <th>CloseSharePrice</th>\n",
       "      <th>TradeVolume</th>\n",
       "    </tr>\n",
       "  </thead>\n",
       "  <tbody>\n",
       "    <tr>\n",
       "      <th>1921</th>\n",
       "      <td>Trump</td>\n",
       "      <td>2/24/2020 12:00:00 AM</td>\n",
       "      <td>$0.55</td>\n",
       "      <td>$0.56</td>\n",
       "      <td>$0.55</td>\n",
       "      <td>$0.56</td>\n",
       "      <td>24399</td>\n",
       "    </tr>\n",
       "    <tr>\n",
       "      <th>1944</th>\n",
       "      <td>Trump</td>\n",
       "      <td>2/25/2020 12:00:00 AM</td>\n",
       "      <td>$0.56</td>\n",
       "      <td>$0.57</td>\n",
       "      <td>$0.55</td>\n",
       "      <td>$0.57</td>\n",
       "      <td>31765</td>\n",
       "    </tr>\n",
       "    <tr>\n",
       "      <th>1967</th>\n",
       "      <td>Trump</td>\n",
       "      <td>2/26/2020 12:00:00 AM</td>\n",
       "      <td>$0.57</td>\n",
       "      <td>$0.57</td>\n",
       "      <td>$0.56</td>\n",
       "      <td>$0.56</td>\n",
       "      <td>23372</td>\n",
       "    </tr>\n",
       "    <tr>\n",
       "      <th>1990</th>\n",
       "      <td>Trump</td>\n",
       "      <td>2/27/2020 12:00:00 AM</td>\n",
       "      <td>$0.56</td>\n",
       "      <td>$0.57</td>\n",
       "      <td>$0.54</td>\n",
       "      <td>$0.54</td>\n",
       "      <td>49162</td>\n",
       "    </tr>\n",
       "    <tr>\n",
       "      <th>2013</th>\n",
       "      <td>Trump</td>\n",
       "      <td>2/28/2020 12:00:00 AM</td>\n",
       "      <td>$0.54</td>\n",
       "      <td>$0.55</td>\n",
       "      <td>$0.52</td>\n",
       "      <td>$0.53</td>\n",
       "      <td>29256</td>\n",
       "    </tr>\n",
       "  </tbody>\n",
       "</table>\n",
       "</div>"
      ],
      "text/plain": [
       "     ContractName                   Date OpenSharePrice HighSharePrice  \\\n",
       "1921        Trump  2/24/2020 12:00:00 AM          $0.55          $0.56   \n",
       "1944        Trump  2/25/2020 12:00:00 AM          $0.56          $0.57   \n",
       "1967        Trump  2/26/2020 12:00:00 AM          $0.57          $0.57   \n",
       "1990        Trump  2/27/2020 12:00:00 AM          $0.56          $0.57   \n",
       "2013        Trump  2/28/2020 12:00:00 AM          $0.54          $0.55   \n",
       "\n",
       "     LowSharePrice CloseSharePrice  TradeVolume  \n",
       "1921         $0.55           $0.56        24399  \n",
       "1944         $0.55           $0.57        31765  \n",
       "1967         $0.56           $0.56        23372  \n",
       "1990         $0.54           $0.54        49162  \n",
       "2013         $0.52           $0.53        29256  "
      ]
     },
     "execution_count": 22,
     "metadata": {},
     "output_type": "execute_result"
    }
   ],
   "source": [
    "trump.tail()"
   ]
  },
  {
   "cell_type": "code",
   "execution_count": 28,
   "metadata": {},
   "outputs": [
    {
     "data": {
      "text/plain": [
       "[<matplotlib.lines.Line2D at 0x1cef2225188>]"
      ]
     },
     "execution_count": 28,
     "metadata": {},
     "output_type": "execute_result"
    },
    {
     "data": {
      "image/png": "[encoded data removed]",
      "text/plain": [
       "<Figure size 432x288 with 1 Axes>"
      ]
     },
     "metadata": {
      "needs_background": "light"
     },
     "output_type": "display_data"
    }
   ],
   "source": [
    "plt.plot_date(trump.Date, trump.CloseSharePrice)"
   ]
  },
  {
   "cell_type": "code",
   "execution_count": 29,
   "metadata": {},
   "outputs": [
    {
     "data": {
      "text/plain": [
       "[<matplotlib.lines.Line2D at 0x1cef22bc9c8>]"
      ]
     },
     "execution_count": 29,
     "metadata": {},
     "output_type": "execute_result"
    },
    {
     "data": {
      "image/png": "[encoded data removed]",
      "text/plain": [
       "<Figure size 432x288 with 1 Axes>"
      ]
     },
     "metadata": {
      "needs_background": "light"
     },
     "output_type": "display_data"
    }
   ],
   "source": [
    "plt.plot_date(trump.Date,trump.TradeVolume)"
   ]
  },
  {
   "cell_type": "code",
   "execution_count": 25,
   "metadata": {},
   "outputs": [],
   "source": [
    "def download_financial_data(name, source, startdate = '2019-12-01', enddate = '2020-02-28'):\n",
    "    df = data.DataReader(name, source,startdate, enddate)\n",
    "    return df"
   ]
  },
  {
   "cell_type": "code",
   "execution_count": 26,
   "metadata": {},
   "outputs": [],
   "source": [
    "VIX = download_financial_data('^VIX', 'yahoo')"
   ]
  },
  {
   "cell_type": "code",
   "execution_count": 27,
   "metadata": {},
   "outputs": [
    {
     "name": "stderr",
     "output_type": "stream",
     "text": [
      "C:\\Users\\steve\\Anaconda3\\lib\\site-packages\\pandas\\plotting\\_matplotlib\\converter.py:103: FutureWarning: Using an implicitly registered datetime converter for a matplotlib plotting method. The converter was registered by pandas on import. Future versions of pandas will require you to explicitly register matplotlib converters.\n",
      "\n",
      "To register the converters:\n",
      "\t>>> from pandas.plotting import register_matplotlib_converters\n",
      "\t>>> register_matplotlib_converters()\n",
      "  warnings.warn(msg, FutureWarning)\n"
     ]
    },
    {
     "data": {
      "text/plain": [
       "[<matplotlib.lines.Line2D at 0x1cef2084b48>]"
      ]
     },
     "execution_count": 27,
     "metadata": {},
     "output_type": "execute_result"
    },
    {
     "data": {
      "image/png": "[encoded data removed]",
      "text/plain": [
       "<Figure size 432x288 with 1 Axes>"
      ]
     },
     "metadata": {
      "needs_background": "light"
     },
     "output_type": "display_data"
    }
   ],
   "source": [
    "plt.plot(VIX['Adj Close'])"
   ]
  },
  {
   "cell_type": "code",
   "execution_count": null,
   "metadata": {},
   "outputs": [],
   "source": []
  }
 ],
 "metadata": {
  "kernelspec": {
   "display_name": "Python 3",
   "language": "python",
   "name": "python3"
  },
  "language_info": {
   "codemirror_mode": {
    "name": "ipython",
    "version": 3
   },
   "file_extension": ".py",
   "mimetype": "text/x-python",
   "name": "python",
   "nbconvert_exporter": "python",
   "pygments_lexer": "ipython3",
   "version": "3.7.4"
  }
 },
 "nbformat": 4,
 "nbformat_minor": 4
}
