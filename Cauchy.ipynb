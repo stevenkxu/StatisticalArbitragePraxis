{
 "cells": [
  {
   "cell_type": "code",
   "execution_count": 8,
   "metadata": {},
   "outputs": [],
   "source": [
    "import numpy.random as rd\n",
    "import numpy as np"
   ]
  },
  {
   "cell_type": "code",
   "execution_count": 37,
   "metadata": {},
   "outputs": [
    {
     "name": "stdout",
     "output_type": "stream",
     "text": [
      "10 ^ 3 :\n",
      "x: -0.047850, 1.004372, -0.075555\n",
      "y: -0.010705, 0.974208, -0.007446\n",
      "z: 1.107774, 36.073517, 0.003247\n",
      "10 ^ 4 :\n",
      "x: -0.019192, 1.000417, -0.020273\n",
      "y: 0.017939, 1.007608, 0.023254\n",
      "z: 0.981156, 120.927670, 0.003870\n",
      "10 ^ 5 :\n",
      "x: -0.003269, 1.002037, -0.004758\n",
      "y: 0.002489, 0.994216, 0.001148\n",
      "z: 0.424447, 138.008472, -0.003296\n",
      "10 ^ 6 :\n",
      "x: -0.000977, 0.999213, -0.000304\n",
      "y: 0.000130, 0.999698, 0.001104\n",
      "z: -0.836835, 801.724213, 0.000627\n",
      "10 ^ 7 :\n",
      "x: 0.000136, 0.999660, 0.000403\n",
      "y: -0.000346, 0.999863, 0.000184\n",
      "z: -2.286570, 5956.967412, -0.000824\n",
      "10 ^ 8 :\n",
      "x: 0.000101, 0.999867, 0.000087\n",
      "y: -0.000093, 0.999915, 0.000009\n",
      "z: -2.312690, 13131.315624, 0.000042\n"
     ]
    }
   ],
   "source": [
    "for i in range(3,9):\n",
    "    rd.seed(2)\n",
    "    x = rd.randn(10**i)\n",
    "    y = rd.randn(10**i)\n",
    "    z = x/y\n",
    "    print(10,'^',i,':')\n",
    "    print('x: %8.6f, %8.6f, %8.6f'%(x.mean(),x.std(), np.median(x)))\n",
    "    print('y: %8.6f, %8.6f, %8.6f'% (y.mean(), y.std(), np.median(y)))\n",
    "    print('z: %8.6f, %8.6f, %8.6f'% (z.mean(), z.std(), np.median(z)))"
   ]
  },
  {
   "cell_type": "code",
   "execution_count": null,
   "metadata": {},
   "outputs": [],
   "source": []
  },
  {
   "cell_type": "code",
   "execution_count": null,
   "metadata": {},
   "outputs": [],
   "source": []
  },
  {
   "cell_type": "code",
   "execution_count": null,
   "metadata": {},
   "outputs": [],
   "source": []
  }
 ],
 "metadata": {
  "kernelspec": {
   "display_name": "Python 3",
   "language": "python",
   "name": "python3"
  },
  "language_info": {
   "codemirror_mode": {
    "name": "ipython",
    "version": 3
   },
   "file_extension": ".py",
   "mimetype": "text/x-python",
   "name": "python",
   "nbconvert_exporter": "python",
   "pygments_lexer": "ipython3",
   "version": "3.7.4"
  }
 },
 "nbformat": 4,
 "nbformat_minor": 4
}
